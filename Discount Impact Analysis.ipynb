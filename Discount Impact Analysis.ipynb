{
 "cells": [
  {
   "cell_type": "raw",
   "id": "a891e1e4-5e70-4efa-8186-cabb1f658e0d",
   "metadata": {},
   "source": [
    " Business Case Study: Discount Impact Analysis "
   ]
  },
  {
   "cell_type": "markdown",
   "id": "c80ba5b4-4909-497a-b872-e012e7df2354",
   "metadata": {},
   "source": [
    "Compare Customer Spending Before and After Discount"
   ]
  },
  {
   "cell_type": "code",
   "execution_count": 36,
   "id": "77a0b18f-05e1-4261-9cb3-fd39b199f73d",
   "metadata": {},
   "outputs": [],
   "source": [
    "# importing necessary libraries\n",
    "import pandas as pd"
   ]
  },
  {
   "cell_type": "code",
   "execution_count": 37,
   "id": "1692786c-8aba-4f1b-b659-0d3f147b16e5",
   "metadata": {},
   "outputs": [],
   "source": [
    "# Loading the Dataset\n",
    "discount_df = pd.read_csv('discount_campaign.csv')"
   ]
  },
  {
   "cell_type": "code",
   "execution_count": 38,
   "id": "89143136-4dd6-41c9-a11d-36702c0c27ca",
   "metadata": {},
   "outputs": [
    {
     "data": {
      "text/html": [
       "<div>\n",
       "<style scoped>\n",
       "    .dataframe tbody tr th:only-of-type {\n",
       "        vertical-align: middle;\n",
       "    }\n",
       "\n",
       "    .dataframe tbody tr th {\n",
       "        vertical-align: top;\n",
       "    }\n",
       "\n",
       "    .dataframe thead th {\n",
       "        text-align: right;\n",
       "    }\n",
       "</style>\n",
       "<table border=\"1\" class=\"dataframe\">\n",
       "  <thead>\n",
       "    <tr style=\"text-align: right;\">\n",
       "      <th></th>\n",
       "      <th>customer_id</th>\n",
       "      <th>discount_applied</th>\n",
       "      <th>order_count_before</th>\n",
       "      <th>order_count_after</th>\n",
       "      <th>total_spend_before</th>\n",
       "      <th>total_spend_after</th>\n",
       "    </tr>\n",
       "  </thead>\n",
       "  <tbody>\n",
       "    <tr>\n",
       "      <th>0</th>\n",
       "      <td>1286</td>\n",
       "      <td>No</td>\n",
       "      <td>4</td>\n",
       "      <td>11</td>\n",
       "      <td>1736.119038</td>\n",
       "      <td>3601.461583</td>\n",
       "    </tr>\n",
       "    <tr>\n",
       "      <th>1</th>\n",
       "      <td>1563</td>\n",
       "      <td>Yes</td>\n",
       "      <td>10</td>\n",
       "      <td>2</td>\n",
       "      <td>923.649992</td>\n",
       "      <td>387.822968</td>\n",
       "    </tr>\n",
       "    <tr>\n",
       "      <th>2</th>\n",
       "      <td>1289</td>\n",
       "      <td>No</td>\n",
       "      <td>2</td>\n",
       "      <td>8</td>\n",
       "      <td>3526.359734</td>\n",
       "      <td>9705.813801</td>\n",
       "    </tr>\n",
       "    <tr>\n",
       "      <th>3</th>\n",
       "      <td>1053</td>\n",
       "      <td>No</td>\n",
       "      <td>4</td>\n",
       "      <td>3</td>\n",
       "      <td>1683.084961</td>\n",
       "      <td>326.592907</td>\n",
       "    </tr>\n",
       "    <tr>\n",
       "      <th>4</th>\n",
       "      <td>1516</td>\n",
       "      <td>Yes</td>\n",
       "      <td>19</td>\n",
       "      <td>2</td>\n",
       "      <td>3746.981815</td>\n",
       "      <td>6747.656727</td>\n",
       "    </tr>\n",
       "  </tbody>\n",
       "</table>\n",
       "</div>"
      ],
      "text/plain": [
       "   customer_id discount_applied  order_count_before  order_count_after  \\\n",
       "0         1286               No                   4                 11   \n",
       "1         1563              Yes                  10                  2   \n",
       "2         1289               No                   2                  8   \n",
       "3         1053               No                   4                  3   \n",
       "4         1516              Yes                  19                  2   \n",
       "\n",
       "   total_spend_before  total_spend_after  \n",
       "0         1736.119038        3601.461583  \n",
       "1          923.649992         387.822968  \n",
       "2         3526.359734        9705.813801  \n",
       "3         1683.084961         326.592907  \n",
       "4         3746.981815        6747.656727  "
      ]
     },
     "execution_count": 38,
     "metadata": {},
     "output_type": "execute_result"
    }
   ],
   "source": [
    "discount_df.head()"
   ]
  },
  {
   "cell_type": "code",
   "execution_count": 39,
   "id": "620d83a8-69f9-47aa-80c1-460c9b64acc1",
   "metadata": {},
   "outputs": [
    {
     "name": "stdout",
     "output_type": "stream",
     "text": [
      "<class 'pandas.core.frame.DataFrame'>\n",
      "RangeIndex: 500 entries, 0 to 499\n",
      "Data columns (total 6 columns):\n",
      " #   Column              Non-Null Count  Dtype  \n",
      "---  ------              --------------  -----  \n",
      " 0   customer_id         500 non-null    int64  \n",
      " 1   discount_applied    500 non-null    object \n",
      " 2   order_count_before  500 non-null    int64  \n",
      " 3   order_count_after   500 non-null    int64  \n",
      " 4   total_spend_before  500 non-null    float64\n",
      " 5   total_spend_after   500 non-null    float64\n",
      "dtypes: float64(2), int64(3), object(1)\n",
      "memory usage: 23.6+ KB\n"
     ]
    }
   ],
   "source": [
    "discount_df.info()"
   ]
  },
  {
   "cell_type": "code",
   "execution_count": 40,
   "id": "437880ed-e711-468b-9a80-ba0557123ba6",
   "metadata": {},
   "outputs": [
    {
     "data": {
      "text/plain": [
       "(500, 6)"
      ]
     },
     "execution_count": 40,
     "metadata": {},
     "output_type": "execute_result"
    }
   ],
   "source": [
    "discount_df.shape"
   ]
  },
  {
   "cell_type": "code",
   "execution_count": 41,
   "id": "91fecfb6-8f96-46a8-9056-4812707fc849",
   "metadata": {},
   "outputs": [
    {
     "data": {
      "text/plain": [
       "customer_id           0\n",
       "discount_applied      0\n",
       "order_count_before    0\n",
       "order_count_after     0\n",
       "total_spend_before    0\n",
       "total_spend_after     0\n",
       "dtype: int64"
      ]
     },
     "execution_count": 41,
     "metadata": {},
     "output_type": "execute_result"
    }
   ],
   "source": [
    "discount_df.isnull().sum()"
   ]
  },
  {
   "cell_type": "code",
   "execution_count": 42,
   "id": "1ccfa06a-dc80-4b89-b18b-7a8fd3d457ca",
   "metadata": {},
   "outputs": [],
   "source": [
    "# Calculate total spending before and after for all customers\n",
    "total_spend_before = discount_df['total_spend_before'].sum()\n",
    "total_spend_after = discount_df['total_spend_after'].sum()"
   ]
  },
  {
   "cell_type": "code",
   "execution_count": 43,
   "id": "65ee977a-725b-451b-9575-89b790e2585c",
   "metadata": {},
   "outputs": [
    {
     "name": "stdout",
     "output_type": "stream",
     "text": [
      "Total Spend Before Discount:  1286322.8194472475\n"
     ]
    }
   ],
   "source": [
    "print(\"Total Spend Before Discount: \", total_spend_before)"
   ]
  },
  {
   "cell_type": "code",
   "execution_count": 44,
   "id": "21b91cdd-0c9b-4fcb-9a3f-0e2a0f7616fd",
   "metadata": {},
   "outputs": [
    {
     "name": "stdout",
     "output_type": "stream",
     "text": [
      "Total Spend After Discount:  2568066.9387422083\n"
     ]
    }
   ],
   "source": [
    "print(\"Total Spend After Discount: \", total_spend_after)"
   ]
  },
  {
   "cell_type": "markdown",
   "id": "00efc7f8-de7a-4d5a-a474-8ebca51fc117",
   "metadata": {},
   "source": [
    "Total Spending before discount is $1286322.82\n",
    "\n",
    "Total Spending after discount is $2568066.94\n",
    "\n",
    "It can be observed that total spending of customers after dicount has increased."
   ]
  },
  {
   "cell_type": "code",
   "execution_count": 45,
   "id": "b04240d1-edca-45f7-b76f-171f9135bd29",
   "metadata": {},
   "outputs": [],
   "source": [
    "# Calculate average spending per customer before and after\n",
    "avg_spend_before = discount_df['total_spend_before'].mean()\n",
    "avg_spend_after = discount_df['total_spend_after'].mean()"
   ]
  },
  {
   "cell_type": "code",
   "execution_count": 46,
   "id": "8bd63687-f520-44dd-ae7d-a5168c0156cd",
   "metadata": {},
   "outputs": [
    {
     "name": "stdout",
     "output_type": "stream",
     "text": [
      "Average Spend Per Customer Before Discounts:  2572.6456388944953\n"
     ]
    }
   ],
   "source": [
    "print(\"Average Spend Per Customer Before Discounts: \", avg_spend_before)"
   ]
  },
  {
   "cell_type": "code",
   "execution_count": 47,
   "id": "b56034c7-3bd0-493d-9d7c-04597696414c",
   "metadata": {},
   "outputs": [
    {
     "name": "stdout",
     "output_type": "stream",
     "text": [
      "Average Spend Per Customer After Discounts:  5136.133877484416\n"
     ]
    }
   ],
   "source": [
    "print(\"Average Spend Per Customer After Discounts: \", avg_spend_after)"
   ]
  },
  {
   "cell_type": "markdown",
   "id": "81c5b93c-c779-4faa-966a-6a39503f3cd7",
   "metadata": {},
   "source": [
    "Average spend per customer before the discount campaign: $2572.65\n",
    "\n",
    "Average spend per customer after the discount campaign: $5136.13\n",
    "\n",
    "There’s a significant increase in customer spending after the discount campaign."
   ]
  },
  {
   "cell_type": "code",
   "execution_count": 48,
   "id": "bd89d218-ea30-447a-b3de-352507b5308c",
   "metadata": {},
   "outputs": [],
   "source": [
    "# Calculate percentage change in total spending\n",
    "total_spend_change = ((total_spend_after - total_spend_before)/total_spend_before)*100"
   ]
  },
  {
   "cell_type": "code",
   "execution_count": 49,
   "id": "f1e88f25-2c71-4532-ad6c-f27f9112cfaf",
   "metadata": {},
   "outputs": [
    {
     "name": "stdout",
     "output_type": "stream",
     "text": [
      "Percentage Change in Total Spend: 99.64%\n"
     ]
    }
   ],
   "source": [
    "print(\"Percentage Change in Total Spend: {:.2f}%\".format(total_spend_change))"
   ]
  },
  {
   "cell_type": "code",
   "execution_count": 50,
   "id": "1874fae2-074a-4047-a2fe-b53a4061087b",
   "metadata": {},
   "outputs": [],
   "source": [
    "# Calculate percentage change in average spending\n",
    "avg_spend_change = ((avg_spend_after - avg_spend_before)/avg_spend_before)*100"
   ]
  },
  {
   "cell_type": "code",
   "execution_count": 51,
   "id": "807e7d68-3bd7-4bbe-b3e0-eeba41d1e80e",
   "metadata": {},
   "outputs": [
    {
     "name": "stdout",
     "output_type": "stream",
     "text": [
      "Percentage Change in Average Spend: 99.64%\n"
     ]
    }
   ],
   "source": [
    "print(\"Percentage Change in Average Spend: {:.2f}%\".format(avg_spend_change))"
   ]
  },
  {
   "cell_type": "markdown",
   "id": "65a6f953-62cb-4817-9d4a-0784dcdc0c99",
   "metadata": {},
   "source": [
    "Overall Percentage change over total spending and average spending of customers has shown a significant increase of 99.64% after discount. "
   ]
  },
  {
   "cell_type": "markdown",
   "id": "5d9d9278-ca6b-46f4-bf63-d106c0167e6e",
   "metadata": {},
   "source": [
    "Customer Segmentation Using K-Means"
   ]
  },
  {
   "cell_type": "code",
   "execution_count": 52,
   "id": "4f0745ae-503d-458d-8daf-06ae03b3fa1d",
   "metadata": {},
   "outputs": [],
   "source": [
    "# Importing necessary Libraries\n",
    "from sklearn.cluster import KMeans\n",
    "import matplotlib.pyplot as plt\n",
    "import seaborn as sns\n",
    "from sklearn.preprocessing import StandardScaler"
   ]
  },
  {
   "cell_type": "code",
   "execution_count": 53,
   "id": "cda38c6f-8956-482a-b89f-37f75ddbf5f2",
   "metadata": {},
   "outputs": [],
   "source": [
    "# Selecting Features for Clustering\n",
    "features = discount_df[['order_count_before','order_count_after','total_spend_before','total_spend_after']]"
   ]
  },
  {
   "cell_type": "code",
   "execution_count": 54,
   "id": "b5663d59-ed7c-4303-90f6-21a77212edf4",
   "metadata": {},
   "outputs": [],
   "source": [
    "# Scale the features\n",
    "scaler = StandardScaler()\n",
    "scaled_features = scaler.fit_transform(features)"
   ]
  },
  {
   "cell_type": "code",
   "execution_count": 55,
   "id": "a5a142fb-a3e1-443e-bbd4-8a5446b0b3da",
   "metadata": {},
   "outputs": [
    {
     "name": "stderr",
     "output_type": "stream",
     "text": [
      "/usr/local/lib/python3.10/site-packages/sklearn/cluster/_kmeans.py:1416: FutureWarning: The default value of `n_init` will change from 10 to 'auto' in 1.4. Set the value of `n_init` explicitly to suppress the warning\n",
      "  super()._check_params_vs_input(X, default_n_init=10)\n",
      "/usr/local/lib/python3.10/site-packages/sklearn/cluster/_kmeans.py:1416: FutureWarning: The default value of `n_init` will change from 10 to 'auto' in 1.4. Set the value of `n_init` explicitly to suppress the warning\n",
      "  super()._check_params_vs_input(X, default_n_init=10)\n",
      "/usr/local/lib/python3.10/site-packages/sklearn/cluster/_kmeans.py:1416: FutureWarning: The default value of `n_init` will change from 10 to 'auto' in 1.4. Set the value of `n_init` explicitly to suppress the warning\n",
      "  super()._check_params_vs_input(X, default_n_init=10)\n",
      "/usr/local/lib/python3.10/site-packages/sklearn/cluster/_kmeans.py:1416: FutureWarning: The default value of `n_init` will change from 10 to 'auto' in 1.4. Set the value of `n_init` explicitly to suppress the warning\n",
      "  super()._check_params_vs_input(X, default_n_init=10)\n",
      "/usr/local/lib/python3.10/site-packages/sklearn/cluster/_kmeans.py:1416: FutureWarning: The default value of `n_init` will change from 10 to 'auto' in 1.4. Set the value of `n_init` explicitly to suppress the warning\n",
      "  super()._check_params_vs_input(X, default_n_init=10)\n",
      "/usr/local/lib/python3.10/site-packages/sklearn/cluster/_kmeans.py:1416: FutureWarning: The default value of `n_init` will change from 10 to 'auto' in 1.4. Set the value of `n_init` explicitly to suppress the warning\n",
      "  super()._check_params_vs_input(X, default_n_init=10)\n",
      "/usr/local/lib/python3.10/site-packages/sklearn/cluster/_kmeans.py:1416: FutureWarning: The default value of `n_init` will change from 10 to 'auto' in 1.4. Set the value of `n_init` explicitly to suppress the warning\n",
      "  super()._check_params_vs_input(X, default_n_init=10)\n",
      "/usr/local/lib/python3.10/site-packages/sklearn/cluster/_kmeans.py:1416: FutureWarning: The default value of `n_init` will change from 10 to 'auto' in 1.4. Set the value of `n_init` explicitly to suppress the warning\n",
      "  super()._check_params_vs_input(X, default_n_init=10)\n",
      "/usr/local/lib/python3.10/site-packages/sklearn/cluster/_kmeans.py:1416: FutureWarning: The default value of `n_init` will change from 10 to 'auto' in 1.4. Set the value of `n_init` explicitly to suppress the warning\n",
      "  super()._check_params_vs_input(X, default_n_init=10)\n",
      "/usr/local/lib/python3.10/site-packages/sklearn/cluster/_kmeans.py:1416: FutureWarning: The default value of `n_init` will change from 10 to 'auto' in 1.4. Set the value of `n_init` explicitly to suppress the warning\n",
      "  super()._check_params_vs_input(X, default_n_init=10)\n"
     ]
    },
    {
     "data": {
      "image/png": "[encoded data removed]",
      "text/plain": [
       "<Figure size 720x360 with 1 Axes>"
      ]
     },
     "metadata": {
      "needs_background": "light"
     },
     "output_type": "display_data"
    }
   ],
   "source": [
    "# Determine the optimal number of clusters using the Elbow Method\n",
    "WCSS = []\n",
    "for i in range(1,11):\n",
    "    kmeans = KMeans(n_clusters = i, random_state = 42)\n",
    "    kmeans.fit(scaled_features)\n",
    "    WCSS.append(kmeans.inertia_)\n",
    "    \n",
    "plt.figure(figsize=(10,5))\n",
    "plt.plot(range(1,11), WCSS, marker= 'o')\n",
    "plt.title('Elbow Method for Optimal Clusters')\n",
    "plt.xlabel('Number of Clusters')\n",
    "plt.ylabel('WCSS')\n",
    "plt.show()"
   ]
  },
  {
   "cell_type": "code",
   "execution_count": 56,
   "id": "74d593e5-54c0-42aa-aebb-0ba534c9e8ee",
   "metadata": {},
   "outputs": [
    {
     "name": "stderr",
     "output_type": "stream",
     "text": [
      "/usr/local/lib/python3.10/site-packages/sklearn/cluster/_kmeans.py:1416: FutureWarning: The default value of `n_init` will change from 10 to 'auto' in 1.4. Set the value of `n_init` explicitly to suppress the warning\n",
      "  super()._check_params_vs_input(X, default_n_init=10)\n"
     ]
    }
   ],
   "source": [
    "# Apply K-Means with the optimal number of clusters (e.g., 3)\n",
    "kmeans = KMeans(n_clusters = 3, random_state = 42)\n",
    "clusters = kmeans.fit_predict(scaled_features)"
   ]
  },
  {
   "cell_type": "code",
   "execution_count": 57,
   "id": "9543066f-72c5-4f15-8e29-6f32748068d3",
   "metadata": {},
   "outputs": [],
   "source": [
    "# Add the cluster labels to the original dataframe\n",
    "discount_df['Clusters'] = clusters"
   ]
  },
  {
   "cell_type": "code",
   "execution_count": 58,
   "id": "ed222805-1d6f-486e-92a3-b58c718964c2",
   "metadata": {},
   "outputs": [
    {
     "name": "stdout",
     "output_type": "stream",
     "text": [
      "          customer_id  order_count_before  order_count_after  \\\n",
      "Clusters                                                       \n",
      "0         1464.614379           15.287582          11.281046   \n",
      "1         1495.843931           10.005780          24.023121   \n",
      "2         1479.643678            5.275862          11.683908   \n",
      "\n",
      "          total_spend_before  total_spend_after  \n",
      "Clusters                                         \n",
      "0                3071.643607        4857.365896  \n",
      "1                2803.955751        6353.269964  \n",
      "2                1903.890821        4171.116396  \n"
     ]
    },
    {
     "name": "stderr",
     "output_type": "stream",
     "text": [
      "/tmp/ipykernel_68/1164287188.py:2: FutureWarning: The default value of numeric_only in DataFrameGroupBy.mean is deprecated. In a future version, numeric_only will default to False. Either specify numeric_only or select only columns which should be valid for the function.\n",
      "  print(discount_df.groupby('Clusters').mean())\n"
     ]
    }
   ],
   "source": [
    "# Analyze the Clusters\n",
    "print(discount_df.groupby('Clusters').mean())"
   ]
  },
  {
   "cell_type": "code",
   "execution_count": 59,
   "id": "2e836eb9-c1ae-44a2-b580-54e607afb972",
   "metadata": {},
   "outputs": [
    {
     "data": {
      "image/png": "[encoded data removed]",
      "text/plain": [
       "<Figure size 720x432 with 1 Axes>"
      ]
     },
     "metadata": {
      "needs_background": "light"
     },
     "output_type": "display_data"
    }
   ],
   "source": [
    "# Visualize the Clusters\n",
    "plt.figure(figsize=(10, 6))\n",
    "sns.barplot(x='Clusters', y='Average Spend', hue='Spending Type', data=avg_spend, palette='viridis')\n",
    "\n",
    "plt.title('Average Customer Spending Before and After Discount Across Clusters')\n",
    "plt.xlabel('Cluster')\n",
    "plt.ylabel('Average Spend')\n",
    "plt.show()\n",
    "\n"
   ]
  },
  {
   "cell_type": "markdown",
   "id": "ffc83ef0-b497-4c66-8bf0-c2294d9e9583",
   "metadata": {},
   "source": [
    "From the above graph it can be observed that:\n",
    "\n",
    "The customer segments and their spending behavior changes are:\n",
    "\n",
    "Segment 1:\n",
    "\n",
    " Average spend  before: $3654.17\n",
    " \n",
    " Average spend  after: $7654.61\n",
    " \n",
    " Increase: $4000.44\n",
    "\n",
    "Segment 2:\n",
    "\n",
    " Average spend before: $1041.59\n",
    " \n",
    " Average spend after: $4835.85\n",
    " \n",
    " Increase: $3794.26\n",
    "\n",
    "Segment 0:\n",
    "\n",
    " Average spend before: $3514.87\n",
    " \n",
    " Average spend after: $2345.54\n",
    " \n",
    " Decrease: -$1169.33"
   ]
  },
  {
   "cell_type": "markdown",
   "id": "c27c9be7-ed46-488e-87fe-aaecafea26fe",
   "metadata": {},
   "source": [
    "Segments 1 and 2 showed a significant increase in spending after the discount campaign, indicating they are most responsive to discounts."
   ]
  },
  {
   "cell_type": "markdown",
   "id": "8ee86c4f-85d2-4675-b96a-82a5ae610c2c",
   "metadata": {},
   "source": [
    "Overall Analysis:\n",
    "\n",
    "Customers without discounts:\n",
    "\n",
    "Average spend before: $2538.72\n",
    "\n",
    "Average spend after: $5092.11\n",
    "\n",
    "Increase: $2553.39\n",
    "\n",
    "Customers with discounts:\n",
    "\n",
    "Average spend before: $2607.67\n",
    "\n",
    "Average spend after: $5181.59\n",
    "\n",
    "Increase: $2573.92"
   ]
  },
  {
   "cell_type": "markdown",
   "id": "c1ba998a-a345-4662-9d4e-a479ad282ef0",
   "metadata": {},
   "source": [
    "Recommendation:\n",
    "\n",
    "1. Targeted Discounts: Focus discounts on Segment 1 and Segment 2 as they showed the highest increase in spending.\n",
    "\n",
    "2. Optimal Discount Rates:\n",
    "\n",
    " \n",
    " Customers with discounts spent slightly more than those without discounts suggesting moderate discounts are effective without heavily impacting profitability.\n",
    "\n",
    "3. Strategy:\n",
    "   Offer tiered discounts based on spending history:\n",
    "     High-value customers (Segment 1): Smaller discounts to maintain profitability.\n",
    "     Low-to-mid value customers (Segment 2): Higher discounts to encourage spending growth.\n",
    "     Seasonal and limited-time discounts to drive peak sales periods while avoiding discount fatigue.\n",
    "\n",
    "\n",
    "This balances increased revenue with controlled discount costs for long-term profitability."
   ]
  },
  {
   "cell_type": "code",
   "execution_count": null,
   "id": "d778d863-4e69-4314-8aff-0bef3c78a3e7",
   "metadata": {},
   "outputs": [],
   "source": []
  }
 ],
 "metadata": {
  "kernelspec": {
   "display_name": "Python 3 [3.10]",
   "language": "python",
   "name": "python3"
  },
  "language_info": {
   "codemirror_mode": {
    "name": "ipython",
    "version": 3
   },
   "file_extension": ".py",
   "mimetype": "text/x-python",
   "name": "python",
   "nbconvert_exporter": "python",
   "pygments_lexer": "ipython3",
   "version": "3.10.2"
  }
 },
 "nbformat": 4,
 "nbformat_minor": 5
}
